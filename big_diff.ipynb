{
 "cells": [
  {
   "cell_type": "markdown",
   "id": "3341871c",
   "metadata": {},
   "source": [
    "# List-2 > big_diff"
   ]
  },
  {
   "cell_type": "markdown",
   "id": "dd999dd7",
   "metadata": {},
   "source": [
    "Given an array length 1 or more of ints, return the difference between the largest and smallest values in the array. Note: the built-in min(v1, v2) and max(v1, v2) functions return the smaller or larger of two values.\n",
    "\n",
    "\n",
    "big_diff([10, 3, 5, 6]) → 7\n",
    "\n",
    "big_diff([7, 2, 10, 9]) → 8\n",
    "\n",
    "big_diff([2, 10, 7, 2]) → 8"
   ]
  },
  {
   "cell_type": "code",
   "execution_count": null,
   "id": "a596f7d6",
   "metadata": {},
   "outputs": [],
   "source": [
    "def big_diff(nums):\n",
    "  return max(nums) - min(nums)"
   ]
  }
 ],
 "metadata": {
  "kernelspec": {
   "display_name": "Python 3 (ipykernel)",
   "language": "python",
   "name": "python3"
  },
  "language_info": {
   "codemirror_mode": {
    "name": "ipython",
    "version": 3
   },
   "file_extension": ".py",
   "mimetype": "text/x-python",
   "name": "python",
   "nbconvert_exporter": "python",
   "pygments_lexer": "ipython3",
   "version": "3.9.12"
  }
 },
 "nbformat": 4,
 "nbformat_minor": 5
}
